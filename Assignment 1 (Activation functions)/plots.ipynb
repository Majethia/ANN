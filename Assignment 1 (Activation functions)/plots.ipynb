{
 "cells": [
  {
   "cell_type": "code",
   "execution_count": 1,
   "metadata": {},
   "outputs": [],
   "source": [
    "def and_gate(input_nodes):\n",
    "    if len(set(input_nodes)) == 1 and input_nodes[0] == 1:\n",
    "        return 1\n",
    "    return 0\n",
    "    \n",
    "def or_gate(input_nodes):\n",
    "    if 1 in input_nodes:\n",
    "        return 1\n",
    "    return 0\n",
    "\n",
    "def not_gate(input_node):\n",
    "    return 0 if input_node == 1 else 1\n",
    "\n",
    "def xor_gate(input_nodes):\n",
    "    return not_gate(or_gate(input_nodes))"
   ]
  },
  {
   "cell_type": "code",
   "execution_count": 2,
   "metadata": {},
   "outputs": [
    {
     "data": {
      "text/plain": [
       "[<matplotlib.lines.Line2D at 0x24f2968a550>]"
      ]
     },
     "execution_count": 2,
     "metadata": {},
     "output_type": "execute_result"
    },
    {
     "data": {
      "image/png": "[encoded data removed]",
      "text/plain": [
       "<Figure size 432x288 with 1 Axes>"
      ]
     },
     "metadata": {
      "needs_background": "light"
     },
     "output_type": "display_data"
    }
   ],
   "source": [
    "import matplotlib.pyplot as plt\n",
    "\n",
    "x1 = []\n",
    "y1 = []\n",
    "for i in range(5):\n",
    "    arr = []\n",
    "    for _ in range(i):\n",
    "        arr.append(0)\n",
    "    for _ in range(4-i):\n",
    "        arr.append(1)\n",
    "\n",
    "    x1.append(sum(arr))\n",
    "    y1.append(arr)\n",
    "\n",
    "and_y = []\n",
    "for i in y1:\n",
    "    and_y.append(and_gate(i))\n",
    "\n",
    "plt.step(x1, and_y)\n"
   ]
  },
  {
   "cell_type": "code",
   "execution_count": 3,
   "metadata": {},
   "outputs": [
    {
     "data": {
      "text/plain": [
       "[<matplotlib.lines.Line2D at 0x24f297847f0>]"
      ]
     },
     "execution_count": 3,
     "metadata": {},
     "output_type": "execute_result"
    },
    {
     "data": {
      "image/png": "[encoded data removed]",
      "text/plain": [
       "<Figure size 432x288 with 1 Axes>"
      ]
     },
     "metadata": {
      "needs_background": "light"
     },
     "output_type": "display_data"
    }
   ],
   "source": [
    "or_y = []\n",
    "for i in y1:\n",
    "    or_y.append(or_gate(i))\n",
    "\n",
    "plt.step(x1, or_y)\n"
   ]
  },
  {
   "cell_type": "code",
   "execution_count": 4,
   "metadata": {},
   "outputs": [
    {
     "data": {
      "text/plain": [
       "[<matplotlib.lines.Line2D at 0x24f298003a0>]"
      ]
     },
     "execution_count": 4,
     "metadata": {},
     "output_type": "execute_result"
    },
    {
     "data": {
      "image/png": "[encoded data removed]",
      "text/plain": [
       "<Figure size 432x288 with 1 Axes>"
      ]
     },
     "metadata": {
      "needs_background": "light"
     },
     "output_type": "display_data"
    }
   ],
   "source": [
    "xor_y = []\n",
    "for i in y1:\n",
    "    xor_y.append(xor_gate(i))\n",
    "\n",
    "plt.step(x1, xor_y)"
   ]
  }
 ],
 "metadata": {
  "kernelspec": {
   "display_name": "Python 3",
   "language": "python",
   "name": "python3"
  },
  "language_info": {
   "codemirror_mode": {
    "name": "ipython",
    "version": 3
   },
   "file_extension": ".py",
   "mimetype": "text/x-python",
   "name": "python",
   "nbconvert_exporter": "python",
   "pygments_lexer": "ipython3",
   "version": "3.9.7 (tags/v3.9.7:1016ef3, Aug 30 2021, 20:19:38) [MSC v.1929 64 bit (AMD64)]"
  },
  "orig_nbformat": 4,
  "vscode": {
   "interpreter": {
    "hash": "11938c6bc6919ae2720b4d5011047913343b08a43b18698fd82dedb0d4417594"
   }
  }
 },
 "nbformat": 4,
 "nbformat_minor": 2
}
