{
 "cells": [
  {
   "cell_type": "code",
   "execution_count": 6,
   "metadata": {},
   "outputs": [],
   "source": [
    "def and_not(inputs, weights, threshold=2):\n",
    "    total = 0\n",
    "    for i, j in zip(inputs, weights):\n",
    "        total += i*j\n",
    "    if total >= threshold:\n",
    "        return 1, total\n",
    "    return 0, total"
   ]
  },
  {
   "cell_type": "code",
   "execution_count": 7,
   "metadata": {},
   "outputs": [
    {
     "data": {
      "text/plain": [
       "[<matplotlib.lines.Line2D at 0x21c0af2ed00>]"
      ]
     },
     "execution_count": 7,
     "metadata": {},
     "output_type": "execute_result"
    },
    {
     "data": {
      "image/png": "[encoded data removed]",
      "text/plain": [
       "<Figure size 432x288 with 1 Axes>"
      ]
     },
     "metadata": {
      "needs_background": "light"
     },
     "output_type": "display_data"
    }
   ],
   "source": [
    "import matplotlib.pyplot as plt\n",
    "\n",
    "x1 = []\n",
    "y1 = []\n",
    "\n",
    "for i in range(5):\n",
    "    inputs = []\n",
    "    for _ in range(i):\n",
    "        inputs.append(0)\n",
    "    for _ in range(4-i):\n",
    "        inputs.append(1)\n",
    "        \n",
    "    a, b = and_not(inputs, [1,1,1,1,1])\n",
    "    x1.append(b)\n",
    "    y1.append(a)\n",
    "\n",
    "plt.step(x1, y1)"
   ]
  }
 ],
 "metadata": {
  "kernelspec": {
   "display_name": "Python 3",
   "language": "python",
   "name": "python3"
  },
  "language_info": {
   "codemirror_mode": {
    "name": "ipython",
    "version": 3
   },
   "file_extension": ".py",
   "mimetype": "text/x-python",
   "name": "python",
   "nbconvert_exporter": "python",
   "pygments_lexer": "ipython3",
   "version": "3.9.7"
  },
  "orig_nbformat": 4,
  "vscode": {
   "interpreter": {
    "hash": "11938c6bc6919ae2720b4d5011047913343b08a43b18698fd82dedb0d4417594"
   }
  }
 },
 "nbformat": 4,
 "nbformat_minor": 2
}
